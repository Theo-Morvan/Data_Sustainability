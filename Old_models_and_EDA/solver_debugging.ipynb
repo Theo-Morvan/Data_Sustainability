{
 "cells": [
  {
   "cell_type": "code",
   "execution_count": 1,
   "metadata": {},
   "outputs": [],
   "source": [
    "import numpy as np\n",
    "from scipy import optimize\n",
    "import os\n",
    "import pandas as pd\n",
    "import ipdb\n",
    "\n",
    "%load_ext autoreload\n",
    "%autoreload 2"
   ]
  },
  {
   "cell_type": "code",
   "execution_count": 2,
   "metadata": {},
   "outputs": [],
   "source": [
    "import warnings\n",
    "warnings.filterwarnings(\"ignore\")"
   ]
  },
  {
   "cell_type": "code",
   "execution_count": 3,
   "metadata": {},
   "outputs": [],
   "source": [
    "from s_annealing_cost_solution import *\n",
    "raw_data = pd.read_csv(os.path.join(\"data\",\"tmja-2019.csv\"), sep=\";\")\n",
    "for colonne in raw_data.columns:\n",
    "    try:\n",
    "        raw_data[colonne] = raw_data[colonne].apply(lambda element:element.replace(',',\".\"))\n",
    "    except:\n",
    "        # print(raw_data[colonne].dtype)\n",
    "        pass\n",
    "for colonne in raw_data.columns:\n",
    "    try:\n",
    "        raw_data[colonne] = raw_data[colonne].astype(float)\n",
    "    except:\n",
    "        pass\n",
    "\n",
    "df = raw_data[[\"route\",'xD',\"yD\",\"xF\", \"yF\",\"TMJA\",\"ratio_PL\"]]\n",
    "df.loc[:, ['xD',\"yD\",\"xF\", \"yF\"]]/=1e5\n",
    "values =[\"x\",\"y\"]\n",
    "for value in values:\n",
    "    df.loc[:,f'center_{value}'] = (df.loc[:, f\"{value}D\"]+df.loc[:,f\"{value}F\"])/2\n",
    "df['proper_ratio_PL'] = df[\"ratio_PL\"].apply(compute_proper_ratio_pl)\n",
    "df.dropna(inplace=True)\n",
    "df[\"daily_flow_trucks\"] = (df[\"proper_ratio_PL\"]/100) *df['TMJA']\n",
    "problem_solver =  AnnealingSolver(number_clusters=120)\n",
    "number_variables = problem_solver.number_clusters*2\n",
    "cost_function = problem_solver.create_final_cost_function(df[['center_x','center_y']].values, df['daily_flow_trucks'], 350)\n",
    "lower_bounds = problem_solver.create_linear_bounds_unconstrained_version(number_variables)\n",
    "X = np.random.rand(1000,2)\n",
    "Y = np.random.randn(number_variables//2,2)\n",
    "Y[:,0]+=7\n",
    "# Y[:,0]+=1\n",
    "Y[:,1]+=64\n",
    "# Y[:,1]+=9"
   ]
  },
  {
   "cell_type": "code",
   "execution_count": 4,
   "metadata": {},
   "outputs": [
    {
     "name": "stdout",
     "output_type": "stream",
     "text": [
      "1\n",
      "2\n",
      "3\n",
      "4\n",
      "5\n",
      "6\n",
      "7\n",
      "8\n",
      "9\n",
      "10\n",
      "11\n",
      "12\n",
      "13\n",
      "14\n",
      "15\n",
      "16\n",
      "17\n",
      "18\n",
      "19\n",
      "20\n",
      "21\n",
      "22\n",
      "23\n",
      "24\n",
      "25\n",
      "26\n",
      "27\n",
      "28\n",
      "29\n",
      "30\n"
     ]
    }
   ],
   "source": [
    "problem_solver.fit_annealing(df[['center_x','center_y','daily_flow_trucks']],maximal_distance=300, max_iters=30)"
   ]
  },
  {
   "cell_type": "code",
   "execution_count": 5,
   "metadata": {},
   "outputs": [
    {
     "data": {
      "text/plain": [
       "4047.074477491"
      ]
     },
     "execution_count": 5,
     "metadata": {},
     "output_type": "execute_result"
    }
   ],
   "source": [
    "cost_function(problem_solver.final_position.flatten())"
   ]
  },
  {
   "cell_type": "code",
   "execution_count": 6,
   "metadata": {},
   "outputs": [
    {
     "data": {
      "text/plain": [
       "<matplotlib.collections.PathCollection at 0x13d04518fa0>"
      ]
     },
     "execution_count": 6,
     "metadata": {},
     "output_type": "execute_result"
    },
    {
     "data": {
      "image/png": "[encoded data removed]",
      "text/plain": [
       "<Figure size 640x480 with 1 Axes>"
      ]
     },
     "metadata": {},
     "output_type": "display_data"
    }
   ],
   "source": [
    "import matplotlib.pyplot as plt\n",
    "plt.scatter(problem_solver.final_position[:,0], problem_solver.final_position[:,1], color='red')\n",
    "plt.scatter(df['center_x'], df['center_y'])"
   ]
  },
  {
   "cell_type": "code",
   "execution_count": 40,
   "metadata": {},
   "outputs": [],
   "source": [
    "distance_matrix = problem_solver.compute_distance_matrix(problem_solver.final_position, problem_solver.center_roads)"
   ]
  },
  {
   "cell_type": "code",
   "execution_count": 29,
   "metadata": {},
   "outputs": [
    {
     "data": {
      "text/plain": [
       "16       9825.0500\n",
       "22      17108.9982\n",
       "23      17108.9982\n",
       "24      17108.9982\n",
       "25      15694.2142\n",
       "           ...    \n",
       "4683      638.0850\n",
       "4684      638.0850\n",
       "4685      638.0850\n",
       "4688     2567.9940\n",
       "4689     3336.6600\n",
       "Name: daily_flow_trucks, Length: 3061, dtype: float64"
      ]
     },
     "execution_count": 29,
     "metadata": {},
     "output_type": "execute_result"
    }
   ],
   "source": [
    "cost_function(Y.flatten())"
   ]
  },
  {
   "cell_type": "code",
   "execution_count": null,
   "metadata": {},
   "outputs": [],
   "source": []
  },
  {
   "cell_type": "code",
   "execution_count": null,
   "metadata": {},
   "outputs": [],
   "source": []
  }
 ],
 "metadata": {
  "kernelspec": {
   "display_name": "base",
   "language": "python",
   "name": "python3"
  },
  "language_info": {
   "codemirror_mode": {
    "name": "ipython",
    "version": 3
   },
   "file_extension": ".py",
   "mimetype": "text/x-python",
   "name": "python",
   "nbconvert_exporter": "python",
   "pygments_lexer": "ipython3",
   "version": "3.8.13"
  },
  "orig_nbformat": 4
 },
 "nbformat": 4,
 "nbformat_minor": 2
}

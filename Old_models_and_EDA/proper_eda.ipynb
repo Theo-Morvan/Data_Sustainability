{
 "cells": [
  {
   "cell_type": "code",
   "execution_count": 16,
   "metadata": {},
   "outputs": [],
   "source": [
    "import pandas as pd\n",
    "import numpy as np\n",
    "import os \n",
    "import matplotlib.pyplot as plt\n",
    "import seaborn as sns"
   ]
  },
  {
   "attachments": {},
   "cell_type": "markdown",
   "metadata": {},
   "source": [
    "Regarder des potentielles pistes concernant un weighted k-means algorithm. Les poids seraient le trafic sur la route"
   ]
  },
  {
   "cell_type": "code",
   "execution_count": 17,
   "metadata": {},
   "outputs": [],
   "source": [
    "donnees_traffics = pd.read_csv(os.path.join(\"data\",\"tmja-2019.csv\"), sep=\";\")\n",
    "for colonne in donnees_traffics.columns:\n",
    "    try:\n",
    "        donnees_traffics[colonne] = donnees_traffics[colonne].apply(lambda element:element.replace(',',\".\"))\n",
    "    except:\n",
    "        # print(donnees_traffics[colonne].dtype)\n",
    "        pass\n",
    "        if donnees_traffics[colonne].dtype == \"object\":\n",
    "            # print(colonne)\n",
    "            pass\n",
    "for colonne in donnees_traffics.columns:\n",
    "    try:\n",
    "        donnees_traffics[colonne] = donnees_traffics[colonne].astype(float)\n",
    "    except:\n",
    "        # print(donnees_traffics[colonne].dtype)\n",
    "        pass\n",
    "        if donnees_traffics[colonne].dtype == \"object\":\n",
    "            pass"
   ]
  },
  {
   "cell_type": "code",
   "execution_count": 18,
   "metadata": {},
   "outputs": [],
   "source": [
    "from sklearn.cluster import KMeans \n",
    "from geopy import distance"
   ]
  },
  {
   "cell_type": "code",
   "execution_count": 19,
   "metadata": {},
   "outputs": [
    {
     "name": "stderr",
     "output_type": "stream",
     "text": [
      "C:\\Users\\32mor\\AppData\\Local\\Temp\\ipykernel_24584\\3440031257.py:2: SettingWithCopyWarning: \n",
      "A value is trying to be set on a copy of a slice from a DataFrame.\n",
      "Try using .loc[row_indexer,col_indexer] = value instead\n",
      "\n",
      "See the caveats in the documentation: https://pandas.pydata.org/pandas-docs/stable/user_guide/indexing.html#returning-a-view-versus-a-copy\n",
      "  donnees_kmeans.loc[:, ['xD',\"yD\",\"xF\", \"yF\"]]/=1e5\n",
      "C:\\Users\\32mor\\AppData\\Local\\Temp\\ipykernel_24584\\3440031257.py:5: SettingWithCopyWarning: \n",
      "A value is trying to be set on a copy of a slice from a DataFrame.\n",
      "Try using .loc[row_indexer,col_indexer] = value instead\n",
      "\n",
      "See the caveats in the documentation: https://pandas.pydata.org/pandas-docs/stable/user_guide/indexing.html#returning-a-view-versus-a-copy\n",
      "  donnees_kmeans.loc[:,f'center_{value}'] = (donnees_kmeans.loc[:, f\"{value}D\"]+donnees_kmeans.loc[:,f\"{value}F\"])/2\n",
      "C:\\Users\\32mor\\AppData\\Local\\Temp\\ipykernel_24584\\3440031257.py:5: SettingWithCopyWarning: \n",
      "A value is trying to be set on a copy of a slice from a DataFrame.\n",
      "Try using .loc[row_indexer,col_indexer] = value instead\n",
      "\n",
      "See the caveats in the documentation: https://pandas.pydata.org/pandas-docs/stable/user_guide/indexing.html#returning-a-view-versus-a-copy\n",
      "  donnees_kmeans.loc[:,f'center_{value}'] = (donnees_kmeans.loc[:, f\"{value}D\"]+donnees_kmeans.loc[:,f\"{value}F\"])/2\n"
     ]
    }
   ],
   "source": [
    "donnees_kmeans = donnees_traffics[[\"route\",'xD',\"yD\",\"xF\", \"yF\"]]\n",
    "donnees_kmeans.loc[:, ['xD',\"yD\",\"xF\", \"yF\"]]/=1e5\n",
    "values =[\"x\",\"y\"]\n",
    "for value in values:\n",
    "    donnees_kmeans.loc[:,f'center_{value}'] = (donnees_kmeans.loc[:, f\"{value}D\"]+donnees_kmeans.loc[:,f\"{value}F\"])/2"
   ]
  },
  {
   "cell_type": "code",
   "execution_count": 20,
   "metadata": {},
   "outputs": [
    {
     "name": "stderr",
     "output_type": "stream",
     "text": [
      "C:\\Users\\32mor\\AppData\\Local\\Temp\\ipykernel_24584\\4171213124.py:4: SettingWithCopyWarning: \n",
      "A value is trying to be set on a copy of a slice from a DataFrame.\n",
      "Try using .loc[row_indexer,col_indexer] = value instead\n",
      "\n",
      "See the caveats in the documentation: https://pandas.pydata.org/pandas-docs/stable/user_guide/indexing.html#returning-a-view-versus-a-copy\n",
      "  donnees_kmeans['center_road'] = donnees_kmeans.apply(create_tuples, axis=1)\n"
     ]
    }
   ],
   "source": [
    "def create_tuples(x):\n",
    "    return (x.center_x, x.center_y)\n",
    "\n",
    "donnees_kmeans['center_road'] = donnees_kmeans.apply(create_tuples, axis=1)"
   ]
  },
  {
   "cell_type": "code",
   "execution_count": 21,
   "metadata": {},
   "outputs": [],
   "source": [
    "from sklearn.cluster import KMeans\n",
    "cluster = KMeans(n_clusters=60,init='k-means++')"
   ]
  },
  {
   "cell_type": "code",
   "execution_count": 22,
   "metadata": {},
   "outputs": [
    {
     "name": "stderr",
     "output_type": "stream",
     "text": [
      "c:\\Users\\32mor\\anaconda3\\lib\\site-packages\\sklearn\\cluster\\_kmeans.py:870: FutureWarning: The default value of `n_init` will change from 10 to 'auto' in 1.4. Set the value of `n_init` explicitly to suppress the warning\n",
      "  warnings.warn(\n"
     ]
    },
    {
     "data": {
      "text/html": [
       "<style>#sk-container-id-2 {color: black;background-color: white;}#sk-container-id-2 pre{padding: 0;}#sk-container-id-2 div.sk-toggleable {background-color: white;}#sk-container-id-2 label.sk-toggleable__label {cursor: pointer;display: block;width: 100%;margin-bottom: 0;padding: 0.3em;box-sizing: border-box;text-align: center;}#sk-container-id-2 label.sk-toggleable__label-arrow:before {content: \"▸\";float: left;margin-right: 0.25em;color: #696969;}#sk-container-id-2 label.sk-toggleable__label-arrow:hover:before {color: black;}#sk-container-id-2 div.sk-estimator:hover label.sk-toggleable__label-arrow:before {color: black;}#sk-container-id-2 div.sk-toggleable__content {max-height: 0;max-width: 0;overflow: hidden;text-align: left;background-color: #f0f8ff;}#sk-container-id-2 div.sk-toggleable__content pre {margin: 0.2em;color: black;border-radius: 0.25em;background-color: #f0f8ff;}#sk-container-id-2 input.sk-toggleable__control:checked~div.sk-toggleable__content {max-height: 200px;max-width: 100%;overflow: auto;}#sk-container-id-2 input.sk-toggleable__control:checked~label.sk-toggleable__label-arrow:before {content: \"▾\";}#sk-container-id-2 div.sk-estimator input.sk-toggleable__control:checked~label.sk-toggleable__label {background-color: #d4ebff;}#sk-container-id-2 div.sk-label input.sk-toggleable__control:checked~label.sk-toggleable__label {background-color: #d4ebff;}#sk-container-id-2 input.sk-hidden--visually {border: 0;clip: rect(1px 1px 1px 1px);clip: rect(1px, 1px, 1px, 1px);height: 1px;margin: -1px;overflow: hidden;padding: 0;position: absolute;width: 1px;}#sk-container-id-2 div.sk-estimator {font-family: monospace;background-color: #f0f8ff;border: 1px dotted black;border-radius: 0.25em;box-sizing: border-box;margin-bottom: 0.5em;}#sk-container-id-2 div.sk-estimator:hover {background-color: #d4ebff;}#sk-container-id-2 div.sk-parallel-item::after {content: \"\";width: 100%;border-bottom: 1px solid gray;flex-grow: 1;}#sk-container-id-2 div.sk-label:hover label.sk-toggleable__label {background-color: #d4ebff;}#sk-container-id-2 div.sk-serial::before {content: \"\";position: absolute;border-left: 1px solid gray;box-sizing: border-box;top: 0;bottom: 0;left: 50%;z-index: 0;}#sk-container-id-2 div.sk-serial {display: flex;flex-direction: column;align-items: center;background-color: white;padding-right: 0.2em;padding-left: 0.2em;position: relative;}#sk-container-id-2 div.sk-item {position: relative;z-index: 1;}#sk-container-id-2 div.sk-parallel {display: flex;align-items: stretch;justify-content: center;background-color: white;position: relative;}#sk-container-id-2 div.sk-item::before, #sk-container-id-2 div.sk-parallel-item::before {content: \"\";position: absolute;border-left: 1px solid gray;box-sizing: border-box;top: 0;bottom: 0;left: 50%;z-index: -1;}#sk-container-id-2 div.sk-parallel-item {display: flex;flex-direction: column;z-index: 1;position: relative;background-color: white;}#sk-container-id-2 div.sk-parallel-item:first-child::after {align-self: flex-end;width: 50%;}#sk-container-id-2 div.sk-parallel-item:last-child::after {align-self: flex-start;width: 50%;}#sk-container-id-2 div.sk-parallel-item:only-child::after {width: 0;}#sk-container-id-2 div.sk-dashed-wrapped {border: 1px dashed gray;margin: 0 0.4em 0.5em 0.4em;box-sizing: border-box;padding-bottom: 0.4em;background-color: white;}#sk-container-id-2 div.sk-label label {font-family: monospace;font-weight: bold;display: inline-block;line-height: 1.2em;}#sk-container-id-2 div.sk-label-container {text-align: center;}#sk-container-id-2 div.sk-container {/* jupyter's `normalize.less` sets `[hidden] { display: none; }` but bootstrap.min.css set `[hidden] { display: none !important; }` so we also need the `!important` here to be able to override the default hidden behavior on the sphinx rendered scikit-learn.org. See: https://github.com/scikit-learn/scikit-learn/issues/21755 */display: inline-block !important;position: relative;}#sk-container-id-2 div.sk-text-repr-fallback {display: none;}</style><div id=\"sk-container-id-2\" class=\"sk-top-container\"><div class=\"sk-text-repr-fallback\"><pre>KMeans(n_clusters=60)</pre><b>In a Jupyter environment, please rerun this cell to show the HTML representation or trust the notebook. <br />On GitHub, the HTML representation is unable to render, please try loading this page with nbviewer.org.</b></div><div class=\"sk-container\" hidden><div class=\"sk-item\"><div class=\"sk-estimator sk-toggleable\"><input class=\"sk-toggleable__control sk-hidden--visually\" id=\"sk-estimator-id-2\" type=\"checkbox\" checked><label for=\"sk-estimator-id-2\" class=\"sk-toggleable__label sk-toggleable__label-arrow\">KMeans</label><div class=\"sk-toggleable__content\"><pre>KMeans(n_clusters=60)</pre></div></div></div></div></div>"
      ],
      "text/plain": [
       "KMeans(n_clusters=60)"
      ]
     },
     "execution_count": 22,
     "metadata": {},
     "output_type": "execute_result"
    }
   ],
   "source": [
    "cluster.fit(donnees_kmeans[['center_x','center_y']])"
   ]
  },
  {
   "cell_type": "code",
   "execution_count": 23,
   "metadata": {},
   "outputs": [
    {
     "name": "stderr",
     "output_type": "stream",
     "text": [
      "C:\\Users\\32mor\\AppData\\Local\\Temp\\ipykernel_24584\\1224778797.py:1: SettingWithCopyWarning: \n",
      "A value is trying to be set on a copy of a slice from a DataFrame.\n",
      "Try using .loc[row_indexer,col_indexer] = value instead\n",
      "\n",
      "See the caveats in the documentation: https://pandas.pydata.org/pandas-docs/stable/user_guide/indexing.html#returning-a-view-versus-a-copy\n",
      "  donnees_kmeans['cluster'] = cluster.predict(donnees_kmeans[['center_x','center_y']])\n",
      "C:\\Users\\32mor\\AppData\\Local\\Temp\\ipykernel_24584\\1224778797.py:10: SettingWithCopyWarning: \n",
      "A value is trying to be set on a copy of a slice from a DataFrame.\n",
      "Try using .loc[row_indexer,col_indexer] = value instead\n",
      "\n",
      "See the caveats in the documentation: https://pandas.pydata.org/pandas-docs/stable/user_guide/indexing.html#returning-a-view-versus-a-copy\n",
      "  donnees_kmeans['center_cluster'] = donnees_kmeans['cluster'].map(dict_map_tupple)\n"
     ]
    }
   ],
   "source": [
    "donnees_kmeans['cluster'] = cluster.predict(donnees_kmeans[['center_x','center_y']])\n",
    "clusters_center = cluster.cluster_centers_\n",
    "dict_map_lat = {}\n",
    "dict_map_long = {}\n",
    "dict_map_tupple = {}\n",
    "for i, cluster_center in enumerate(clusters_center):\n",
    "    dict_map_lat[i] = cluster_center[0]\n",
    "    dict_map_long[i] = cluster_center[1]\n",
    "    dict_map_tupple[i] = (cluster_center[0], cluster_center[1])\n",
    "donnees_kmeans['center_cluster'] = donnees_kmeans['cluster'].map(dict_map_tupple)"
   ]
  },
  {
   "cell_type": "code",
   "execution_count": 24,
   "metadata": {},
   "outputs": [
    {
     "data": {
      "text/plain": [
       "Distance(4.951570299567418)"
      ]
     },
     "execution_count": 24,
     "metadata": {},
     "output_type": "execute_result"
    }
   ],
   "source": [
    "distance.distance((1,2),(1.04, 2.02))"
   ]
  },
  {
   "cell_type": "code",
   "execution_count": 25,
   "metadata": {},
   "outputs": [
    {
     "name": "stderr",
     "output_type": "stream",
     "text": [
      "C:\\Users\\32mor\\AppData\\Local\\Temp\\ipykernel_24584\\207644576.py:3: SettingWithCopyWarning: \n",
      "A value is trying to be set on a copy of a slice from a DataFrame.\n",
      "Try using .loc[row_indexer,col_indexer] = value instead\n",
      "\n",
      "See the caveats in the documentation: https://pandas.pydata.org/pandas-docs/stable/user_guide/indexing.html#returning-a-view-versus-a-copy\n",
      "  donnees_kmeans[\"distance_to_center_cluster\"] = donnees_kmeans.apply(compute_distance_center_cluster, axis=1)\n"
     ]
    }
   ],
   "source": [
    "def compute_distance_center_cluster(x):\n",
    "    return distance.distance(x.center_road, x.center_cluster).km\n",
    "donnees_kmeans[\"distance_to_center_cluster\"] = donnees_kmeans.apply(compute_distance_center_cluster, axis=1)"
   ]
  },
  {
   "cell_type": "code",
   "execution_count": 26,
   "metadata": {},
   "outputs": [
    {
     "data": {
      "text/plain": [
       "<AxesSubplot:ylabel='Frequency'>"
      ]
     },
     "execution_count": 26,
     "metadata": {},
     "output_type": "execute_result"
    },
    {
     "data": {
      "image/png": "[encoded data removed]",
      "text/plain": [
       "<Figure size 640x480 with 1 Axes>"
      ]
     },
     "metadata": {},
     "output_type": "display_data"
    }
   ],
   "source": [
    "donnees_kmeans.groupby('cluster').agg({\"distance_to_center_cluster\":[np.mean, np.max]}).plot(kind='hist',alpha=0.8, bins=40)"
   ]
  },
  {
   "cell_type": "code",
   "execution_count": 27,
   "metadata": {},
   "outputs": [
    {
     "name": "stderr",
     "output_type": "stream",
     "text": [
      "C:\\Users\\32mor\\AppData\\Local\\Temp\\ipykernel_24584\\2200627314.py:1: SettingWithCopyWarning: \n",
      "A value is trying to be set on a copy of a slice from a DataFrame.\n",
      "Try using .loc[row_indexer,col_indexer] = value instead\n",
      "\n",
      "See the caveats in the documentation: https://pandas.pydata.org/pandas-docs/stable/user_guide/indexing.html#returning-a-view-versus-a-copy\n",
      "  donnees_kmeans['ratio_PL'] = donnees_traffics['ratio_PL'].values\n",
      "C:\\Users\\32mor\\AppData\\Local\\Temp\\ipykernel_24584\\2200627314.py:2: SettingWithCopyWarning: \n",
      "A value is trying to be set on a copy of a slice from a DataFrame.\n",
      "Try using .loc[row_indexer,col_indexer] = value instead\n",
      "\n",
      "See the caveats in the documentation: https://pandas.pydata.org/pandas-docs/stable/user_guide/indexing.html#returning-a-view-versus-a-copy\n",
      "  donnees_kmeans['trafic'] = donnees_traffics['TMJA'].values\n"
     ]
    }
   ],
   "source": [
    "donnees_kmeans['ratio_PL'] = donnees_traffics['ratio_PL'].values\n",
    "donnees_kmeans['trafic'] = donnees_traffics['TMJA'].values"
   ]
  },
  {
   "cell_type": "code",
   "execution_count": 28,
   "metadata": {},
   "outputs": [],
   "source": [
    "def compute_proper_ratio_pl(element):\n",
    "    if not element:\n",
    "        return None\n",
    "    element = float(str(element).replace(',',\".\"))\n",
    "    if element > 40:\n",
    "        element /=10\n",
    "    return element"
   ]
  },
  {
   "cell_type": "code",
   "execution_count": 29,
   "metadata": {},
   "outputs": [
    {
     "name": "stderr",
     "output_type": "stream",
     "text": [
      "C:\\Users\\32mor\\AppData\\Local\\Temp\\ipykernel_24584\\3729081683.py:1: SettingWithCopyWarning: \n",
      "A value is trying to be set on a copy of a slice from a DataFrame.\n",
      "Try using .loc[row_indexer,col_indexer] = value instead\n",
      "\n",
      "See the caveats in the documentation: https://pandas.pydata.org/pandas-docs/stable/user_guide/indexing.html#returning-a-view-versus-a-copy\n",
      "  donnees_kmeans['proper_PL'] = donnees_kmeans['ratio_PL'].apply(compute_proper_ratio_pl)\n"
     ]
    }
   ],
   "source": [
    "donnees_kmeans['proper_PL'] = donnees_kmeans['ratio_PL'].apply(compute_proper_ratio_pl)"
   ]
  },
  {
   "cell_type": "code",
   "execution_count": 30,
   "metadata": {},
   "outputs": [
    {
     "data": {
      "text/plain": [
       "86.94169880887404"
      ]
     },
     "execution_count": 30,
     "metadata": {},
     "output_type": "execute_result"
    }
   ],
   "source": [
    "donnees_kmeans.dropna()['distance_to_center_cluster'].max()"
   ]
  },
  {
   "cell_type": "code",
   "execution_count": 32,
   "metadata": {},
   "outputs": [],
   "source": [
    "X = np.random.rand(1000,2)\n",
    "Y = np.random.rand(50,2)\n",
    "X[:,0]+=5\n",
    "X[:,1]+=64\n",
    "Y[:,0]+=5\n",
    "Y[:,1]+=64"
   ]
  },
  {
   "cell_type": "code",
   "execution_count": 58,
   "metadata": {},
   "outputs": [],
   "source": [
    "lat2 = np.radians(X[:,0]).reshape((-1,1))\n",
    "lat1 = np.radians(Y[:,0]).reshape((1,-1))\n",
    "lon2 = np.radians(X[:,1]).reshape((-1,1))\n",
    "lon1 = np.radians(Y[:,1]).reshape((1,-1))\n",
    "dlat = lat2 - lat1\n",
    "dlon = lon2 - lon1\n",
    "a = np.sin(dlat/2)**2 + np.cos(lat1)*np.cos(lat2)*np.sin(dlon/2)**2\n",
    "c = 2*np.arcsin(np.sqrt(a))\n",
    "r = 6371\n",
    "final_result = c*r"
   ]
  },
  {
   "cell_type": "code",
   "execution_count": 79,
   "metadata": {},
   "outputs": [],
   "source": [
    "flows = np.random.randint(0, 200, len(X))"
   ]
  },
  {
   "cell_type": "code",
   "execution_count": 81,
   "metadata": {},
   "outputs": [
    {
     "data": {
      "text/plain": [
       "33595"
      ]
     },
     "execution_count": 81,
     "metadata": {},
     "output_type": "execute_result"
    }
   ],
   "source": [
    "((final_result.min(axis=1)>10)*1*flows).sum()"
   ]
  },
  {
   "cell_type": "code",
   "execution_count": 64,
   "metadata": {},
   "outputs": [],
   "source": []
  },
  {
   "cell_type": "code",
   "execution_count": 67,
   "metadata": {},
   "outputs": [
    {
     "data": {
      "text/plain": [
       "151.61614160616892"
      ]
     },
     "execution_count": 67,
     "metadata": {},
     "output_type": "execute_result"
    }
   ],
   "source": [
    "final_result.max()"
   ]
  },
  {
   "cell_type": "code",
   "execution_count": 56,
   "metadata": {},
   "outputs": [
    {
     "data": {
      "text/plain": [
       "(50,)"
      ]
     },
     "execution_count": 56,
     "metadata": {},
     "output_type": "execute_result"
    }
   ],
   "source": [
    "np.cos(lat1).shape"
   ]
  },
  {
   "cell_type": "code",
   "execution_count": 54,
   "metadata": {},
   "outputs": [
    {
     "ename": "ValueError",
     "evalue": "operands could not be broadcast together with shapes (50,) (1000,) ",
     "output_type": "error",
     "traceback": [
      "\u001b[1;31m---------------------------------------------------------------------------\u001b[0m",
      "\u001b[1;31mValueError\u001b[0m                                Traceback (most recent call last)",
      "\u001b[1;32mc:\\Users\\32mor\\OneDrive\\Documents\\HEC\\M2 DSB\\Data_sustainability\\proper_eda.ipynb Cell 20\u001b[0m in \u001b[0;36m<cell line: 1>\u001b[1;34m()\u001b[0m\n\u001b[1;32m----> <a href='vscode-notebook-cell:/c%3A/Users/32mor/OneDrive/Documents/HEC/M2%20DSB/Data_sustainability/proper_eda.ipynb#X26sZmlsZQ%3D%3D?line=0'>1</a>\u001b[0m np\u001b[39m.\u001b[39;49mcos(lat1)\u001b[39m*\u001b[39;49mnp\u001b[39m.\u001b[39;49mcos(lat2)\n",
      "\u001b[1;31mValueError\u001b[0m: operands could not be broadcast together with shapes (50,) (1000,) "
     ]
    }
   ],
   "source": [
    "np.cos(lat1)*np.cos(lat2)"
   ]
  },
  {
   "cell_type": "code",
   "execution_count": null,
   "metadata": {},
   "outputs": [],
   "source": []
  }
 ],
 "metadata": {
  "kernelspec": {
   "display_name": "base",
   "language": "python",
   "name": "python3"
  },
  "language_info": {
   "codemirror_mode": {
    "name": "ipython",
    "version": 3
   },
   "file_extension": ".py",
   "mimetype": "text/x-python",
   "name": "python",
   "nbconvert_exporter": "python",
   "pygments_lexer": "ipython3",
   "version": "3.8.13"
  },
  "orig_nbformat": 4
 },
 "nbformat": 4,
 "nbformat_minor": 2
}
